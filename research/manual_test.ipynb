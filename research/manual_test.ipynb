{
 "cells": [
  {
   "cell_type": "code",
   "execution_count": 1,
   "metadata": {},
   "outputs": [
    {
     "name": "stdout",
     "output_type": "stream",
     "text": [
      "[2023-02-22 18:21:41,565 : INFO : youtube]: video starts at: 48\n",
      "[2023-02-22 18:21:41,566 : INFO : youtube]: embed URL: https://www.youtube.com/embeddWMXRd2-PeY?start=48\n"
     ]
    },
    {
     "data": {
      "text/html": [
       "\n",
       "            <iframe width=\"600\" height=\"300\"\n",
       "            src=\"https://www.youtube.com/embeddWMXRd2-PeY?start=48\" title=\"YouTube video player\"\n",
       "            frameborder=\"0\" allow=\"accelerometer; autoplay; clipboard-write; encrypted-media;\n",
       "            gyroscope; picture-in-picture\" allowfullscreen></iframe>\n",
       "            "
      ],
      "text/plain": [
       "<IPython.core.display.HTML object>"
      ]
     },
     "metadata": {},
     "output_type": "display_data"
    },
    {
     "data": {
      "text/plain": [
       "'success'"
      ]
     },
     "execution_count": 1,
     "metadata": {},
     "output_type": "execute_result"
    }
   ],
   "source": [
    "from videoIpynbRenderer import render_youtube_videos\n",
    "\n",
    "render_youtube_videos(\"https://youtu.be/dWMXRd2-PeY?t=48\")"
   ]
  }
 ],
 "metadata": {
  "kernelspec": {
   "display_name": "Python 3",
   "language": "python",
   "name": "python3"
  },
  "language_info": {
   "codemirror_mode": {
    "name": "ipython",
    "version": 3
   },
   "file_extension": ".py",
   "mimetype": "text/x-python",
   "name": "python",
   "nbconvert_exporter": "python",
   "pygments_lexer": "ipython3",
   "version": "3.8.16"
  },
  "orig_nbformat": 4,
  "vscode": {
   "interpreter": {
    "hash": "1d0f7476db81d322fdbb6aef048098b761fa2b861de264ff37c309d1317e1f5b"
   }
  }
 },
 "nbformat": 4,
 "nbformat_minor": 2
}
